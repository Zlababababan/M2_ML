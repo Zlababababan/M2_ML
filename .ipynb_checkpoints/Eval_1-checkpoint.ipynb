{
 "cells": [
  {
   "cell_type": "markdown",
   "metadata": {},
   "source": [
    "# Data Visualisation & Statistiques descriptives : Formaliser des KPI\n",
    "1. Expliquer ce qu’est un KPI? (1pt)\n",
    "2. Importer les librairies pandas et numpy (0.5pt)\n",
    "3. Importer et le dataset ‘eval.csv’ (0.5pt)\n",
    "4. Afficher les 10 premières lignes du dataset (0.5pt)\n",
    "5. Afficher la dimension du dataset ? (0.5pt)\n",
    "6. Afficher, et décrire les colonnes de notre dataset (0.5pt)\n",
    "7. Afficher les statistiques descriptives du dataset (0.5pt)\n",
    "8. Quel est l’item le plus commandé ? (1pt)\n",
    "9. Combien d’items ont été commandés au total ? (1pt)\n",
    "10. Combien de chiffre d’affaire à realisé la société ? (2pt)\n",
    "11. Quel est le revenu moyen par commande ? (2pt)"
   ]
  },
  {
   "cell_type": "markdown",
   "metadata": {},
   "source": [
    "1) KPI (Key Performance Indicator, indicateurs clés de performance en français)"
   ]
  }
 ],
 "metadata": {
  "kernelspec": {
   "display_name": "Python 3",
   "language": "python",
   "name": "python3"
  },
  "language_info": {
   "codemirror_mode": {
    "name": "ipython",
    "version": 3
   },
   "file_extension": ".py",
   "mimetype": "text/x-python",
   "name": "python",
   "nbconvert_exporter": "python",
   "pygments_lexer": "ipython3",
   "version": "3.8.2"
  }
 },
 "nbformat": 4,
 "nbformat_minor": 4
}

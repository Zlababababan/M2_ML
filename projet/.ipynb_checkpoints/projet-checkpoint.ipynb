{
 "cells": [
  {
   "cell_type": "code",
   "execution_count": 1,
   "metadata": {},
   "outputs": [],
   "source": [
    "# Import des bonnes librairies\n",
    "import pandas as pd\n",
    "import seaborn as sns"
   ]
  },
  {
   "cell_type": "code",
   "execution_count": 10,
   "metadata": {},
   "outputs": [
    {
     "name": "stdout",
     "output_type": "stream",
     "text": [
      "<class 'pandas.core.frame.DataFrame'>\n",
      "RangeIndex: 14478 entries, 0 to 14477\n",
      "Data columns (total 31 columns):\n",
      " #   Column          Non-Null Count  Dtype  \n",
      "---  ------          --------------  -----  \n",
      " 0   anime_id        14478 non-null  int64  \n",
      " 1   title           14478 non-null  object \n",
      " 2   title_english   5724 non-null   object \n",
      " 3   title_japanese  14443 non-null  object \n",
      " 4   title_synonyms  8937 non-null   object \n",
      " 5   image_url       14382 non-null  object \n",
      " 6   type            14478 non-null  object \n",
      " 7   source          14478 non-null  object \n",
      " 8   episodes        14478 non-null  int64  \n",
      " 9   status          14478 non-null  object \n",
      " 10  airing          14478 non-null  bool   \n",
      " 11  aired_string    14478 non-null  object \n",
      " 12  aired           14478 non-null  object \n",
      " 13  duration        14478 non-null  object \n",
      " 14  rating          14478 non-null  object \n",
      " 15  score           14478 non-null  float64\n",
      " 16  scored_by       14478 non-null  int64  \n",
      " 17  rank            12904 non-null  float64\n",
      " 18  popularity      14478 non-null  int64  \n",
      " 19  members         14478 non-null  int64  \n",
      " 20  favorites       14478 non-null  int64  \n",
      " 21  background      1057 non-null   object \n",
      " 22  premiered       4096 non-null   object \n",
      " 23  broadcast       4271 non-null   object \n",
      " 24  related         14478 non-null  object \n",
      " 25  producer        8288 non-null   object \n",
      " 26  licensor        3373 non-null   object \n",
      " 27  studio          8544 non-null   object \n",
      " 28  genre           14414 non-null  object \n",
      " 29  opening_theme   14478 non-null  object \n",
      " 30  ending_theme    14478 non-null  object \n",
      "dtypes: bool(1), float64(2), int64(6), object(22)\n",
      "memory usage: 3.3+ MB\n"
     ]
    },
    {
     "ename": "AttributeError",
     "evalue": "'NoneType' object has no attribute 'sort_values'",
     "output_type": "error",
     "traceback": [
      "\u001b[0;31m---------------------------------------------------------------------------\u001b[0m",
      "\u001b[0;31mAttributeError\u001b[0m                            Traceback (most recent call last)",
      "\u001b[0;32m<ipython-input-10-397248759375>\u001b[0m in \u001b[0;36m<module>\u001b[0;34m\u001b[0m\n\u001b[1;32m      1\u001b[0m \u001b[0;31m# Import du dataset\u001b[0m\u001b[0;34m\u001b[0m\u001b[0;34m\u001b[0m\u001b[0;34m\u001b[0m\u001b[0m\n\u001b[1;32m      2\u001b[0m \u001b[0manime_dataset\u001b[0m \u001b[0;34m=\u001b[0m \u001b[0mpd\u001b[0m\u001b[0;34m.\u001b[0m\u001b[0mread_csv\u001b[0m\u001b[0;34m(\u001b[0m\u001b[0;34m'AnimeList.csv'\u001b[0m\u001b[0;34m)\u001b[0m\u001b[0;34m\u001b[0m\u001b[0;34m\u001b[0m\u001b[0m\n\u001b[0;32m----> 3\u001b[0;31m \u001b[0manime_dataset\u001b[0m\u001b[0;34m.\u001b[0m\u001b[0minfo\u001b[0m\u001b[0;34m(\u001b[0m\u001b[0;34m)\u001b[0m\u001b[0;34m.\u001b[0m\u001b[0msort_values\u001b[0m\u001b[0;34m(\u001b[0m\u001b[0;34m'title'\u001b[0m\u001b[0;34m)\u001b[0m\u001b[0;34m\u001b[0m\u001b[0;34m\u001b[0m\u001b[0m\n\u001b[0m",
      "\u001b[0;31mAttributeError\u001b[0m: 'NoneType' object has no attribute 'sort_values'"
     ]
    }
   ],
   "source": [
    "# Import du dataset\n",
    "anime_dataset = pd.read_csv('AnimeList.csv').sort_values('title')\n",
    "anime_dataset.info()"
   ]
  },
  {
   "cell_type": "code",
   "execution_count": null,
   "metadata": {},
   "outputs": [],
   "source": []
  }
 ],
 "metadata": {
  "kernelspec": {
   "display_name": "Python 3",
   "language": "python",
   "name": "python3"
  },
  "language_info": {
   "codemirror_mode": {
    "name": "ipython",
    "version": 3
   },
   "file_extension": ".py",
   "mimetype": "text/x-python",
   "name": "python",
   "nbconvert_exporter": "python",
   "pygments_lexer": "ipython3",
   "version": "3.8.2"
  }
 },
 "nbformat": 4,
 "nbformat_minor": 4
}
